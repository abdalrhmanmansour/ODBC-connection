{
 "cells": [
  {
   "cell_type": "code",
   "execution_count": null,
   "id": "67cb7ca3",
   "metadata": {},
   "outputs": [],
   "source": [
    "install.packages('RODBC')"
   ]
  },
  {
   "cell_type": "code",
   "execution_count": 3,
   "id": "62c6e03f",
   "metadata": {},
   "outputs": [],
   "source": [
    "library(RODBC)\n",
    "\n",
    "dsn_driver <- \"{IBM DB2 ODBC Driver}\"\n",
    "dsn_database <- \"bludb\"            \n",
    "dsn_hostname <- \"fbd88901-ebdb-4a4f-a32e-9822b9fb237b.c1ogj3sd0tgtu0lqde00.databases.appdomain.cloud\" \n",
    "dsn_protocol <- \"TCPIP\"       \n",
    "dsn_uid <- \"llw14497\"       \n",
    "dsn_pwd <- \"w5TdXMDNjreUxWKq\"     \n",
    "dsn_security <- \"ssl\"\n"
   ]
  },
  {
   "cell_type": "code",
   "execution_count": 4,
   "id": "1c9eab3d",
   "metadata": {},
   "outputs": [
    {
     "name": "stderr",
     "output_type": "stream",
     "text": [
      "Warning message in odbcDriverConnect(conn_path):\n",
      "\"[RODBC] ERROR: state IM002, code 0, message [Microsoft][ODBC Driver Manager] Data source name not found and no default driver specified\"Warning message in odbcDriverConnect(conn_path):\n",
      "\"ODBC connection failed\""
     ]
    }
   ],
   "source": [
    "conn_path <- paste(\"DRIVER=\",dsn_driver,\n",
    "                  \";DATABASE=\",dsn_database,\n",
    "                  \";HOSTNAME=\",dsn_hostname,\n",
    "                  \";PORT=\",dsn_port,\n",
    "                  \";PROTOCOL=\",dsn_protocol,\n",
    "                  \";UID=\",dsn_uid,\n",
    "                  \";PWD=\",dsn_pwd,\n",
    "                  \";SECURITY=\",dsn_security,        \n",
    "                    sep=\"\")    \n",
    "conn <- odbcDriverConnect(conn_path)"
   ]
  }
 ],
 "metadata": {
  "kernelspec": {
   "display_name": "R",
   "language": "R",
   "name": "ir"
  },
  "language_info": {
   "codemirror_mode": "r",
   "file_extension": ".r",
   "mimetype": "text/x-r-source",
   "name": "R",
   "pygments_lexer": "r",
   "version": "3.6.1"
  }
 },
 "nbformat": 4,
 "nbformat_minor": 5
}
